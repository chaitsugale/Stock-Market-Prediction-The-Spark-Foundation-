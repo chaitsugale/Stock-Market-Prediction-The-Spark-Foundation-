{
  "nbformat": 4,
  "nbformat_minor": 0,
  "metadata": {
    "colab": {
      "provenance": [],
      "authorship_tag": "ABX9TyOW4FLHvx+jc6wyoQ8kXXmP",
      "include_colab_link": true
    },
    "kernelspec": {
      "name": "python3",
      "display_name": "Python 3"
    },
    "language_info": {
      "name": "python"
    }
  },
  "cells": [
    {
      "cell_type": "markdown",
      "metadata": {
        "id": "view-in-github",
        "colab_type": "text"
      },
      "source": [
        "<a href=\"https://colab.research.google.com/github/chaitsugale/Stock-Market-Prediction-The-Spark-Foundation-/blob/main/Stock_Market_Prediction_Using_Numerical_and_Textual_Analysis(The_Spark_Foundation).ipynb\" target=\"_parent\"><img src=\"https://colab.research.google.com/assets/colab-badge.svg\" alt=\"Open In Colab\"/></a>"
      ]
    },
    {
      "cell_type": "markdown",
      "source": [
        "# Stock Market Prediction Using Numerical and Textual Analysis"
      ],
      "metadata": {
        "id": "OyWo2ah43IV_"
      }
    },
    {
      "cell_type": "markdown",
      "source": [
        "Objective: Create a hybrid model for stock price/performance\n",
        "prediction using numerical analysis of historical stock prices, and\n",
        "sentimental analysis of news headlines"
      ],
      "metadata": {
        "id": "pT4rn9QZ4bSR"
      }
    },
    {
      "cell_type": "markdown",
      "source": [
        "Here We are analyzing and predicting the stocks of BOMBAY STOCK EXCHANGE i.e. SENSEX (S&F BSE SENSEX) \n",
        "\n",
        "SENSEX or BOMBAY STOCK EXCHANGE is the oldest stock exchange in ASIA establishing in 1875."
      ],
      "metadata": {
        "id": "FisHLmog5PKx"
      }
    },
    {
      "cell_type": "markdown",
      "source": [
        "## Step 1: Loading the Package\n",
        "\n",
        "> Loading all the important packages for analyzing and predicting alonng with plotting graph\n",
        "\n"
      ],
      "metadata": {
        "id": "cZlcsjuK-M6X"
      }
    },
    {
      "cell_type": "code",
      "source": [],
      "metadata": {
        "id": "REUJAdQ2-cPp"
      },
      "execution_count": null,
      "outputs": []
    }
  ]
}