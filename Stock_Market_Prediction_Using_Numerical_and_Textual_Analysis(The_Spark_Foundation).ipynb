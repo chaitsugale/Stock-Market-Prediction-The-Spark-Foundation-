{
  "nbformat": 4,
  "nbformat_minor": 0,
  "metadata": {
    "colab": {
      "provenance": [],
      "authorship_tag": "ABX9TyPq/gxmLchQu9jFl5KSoj+S",
      "include_colab_link": true
    },
    "kernelspec": {
      "name": "python3",
      "display_name": "Python 3"
    },
    "language_info": {
      "name": "python"
    }
  },
  "cells": [
    {
      "cell_type": "markdown",
      "metadata": {
        "id": "view-in-github",
        "colab_type": "text"
      },
      "source": [
        "<a href=\"https://colab.research.google.com/github/chaitsugale/Stock-Market-Prediction-The-Spark-Foundation-/blob/main/Stock_Market_Prediction_Using_Numerical_and_Textual_Analysis(The_Spark_Foundation).ipynb\" target=\"_parent\"><img src=\"https://colab.research.google.com/assets/colab-badge.svg\" alt=\"Open In Colab\"/></a>"
      ]
    },
    {
      "cell_type": "markdown",
      "source": [
        "# Stock Market Prediction Using Numerical and Textual Analysis"
      ],
      "metadata": {
        "id": "OyWo2ah43IV_"
      }
    },
    {
      "cell_type": "markdown",
      "source": [
        "Objective: Create a hybrid model for stock price/performance\n",
        "prediction using numerical analysis of historical stock prices, and\n",
        "sentimental analysis of news headlines"
      ],
      "metadata": {
        "id": "pT4rn9QZ4bSR"
      }
    },
    {
      "cell_type": "markdown",
      "source": [
        "Here We are analyzing and predicting the stocks of BOMBAY STOCK EXCHANGE i.e. SENSEX (S&F BSE SENSEX) \n",
        "\n",
        "SENSEX or BOMBAY STOCK EXCHANGE is the oldest stock exchange in ASIA establishing in 1875."
      ],
      "metadata": {
        "id": "FisHLmog5PKx"
      }
    },
    {
      "cell_type": "markdown",
      "source": [
        "## Step 1: Loading the Package\n",
        "\n",
        "> Loading all the important packages for analyzing and predicting alonng with plotting graph\n",
        "\n"
      ],
      "metadata": {
        "id": "cZlcsjuK-M6X"
      }
    },
    {
      "cell_type": "code",
      "source": [
        "import numpy as np\n",
        "import pandas as pd\n",
        "\n",
        "import matplotlib.pyplot as plt\n",
        "%matplotlib inline\n",
        "\n",
        "import altair as alt  #Altair is a declarative statistical visualization library for Python\n",
        "\n",
        "import statsmodels.api as sm \n",
        "\n",
        "from sklearn.model_selection import ShuffleSplit\n",
        "from sklearn.metrics import mean_absolute_error\n",
        "from sklearn.metrics import mean_squared_error\n",
        "from sklearn.metrics import r2_score\n",
        "from sklearn.multioutput import RegressorChain\n",
        "from sklearn.ensemble import RandomForestRegressor"
      ],
      "metadata": {
        "id": "REUJAdQ2-cPp"
      },
      "execution_count": 1,
      "outputs": []
    },
    {
      "cell_type": "code",
      "source": [
        "import warnings\n",
        "warnings.filterwarnings('ignore')"
      ],
      "metadata": {
        "id": "02qCI0bj9pBD"
      },
      "execution_count": 2,
      "outputs": []
    },
    {
      "cell_type": "markdown",
      "source": [
        "Here We will extracting the data of **Bombay Stock Exchange** from yahoo finance through **Python API**\n",
        "\n",
        "So we are installing the PYPI yfinance"
      ],
      "metadata": {
        "id": "MyVqH1EqA9qw"
      }
    },
    {
      "cell_type": "code",
      "source": [
        "# installing pypi package for yahoo finance\n",
        "\n",
        "\n",
        "!pip install yfinance --upgrade --no-cache-dir"
      ],
      "metadata": {
        "colab": {
          "base_uri": "https://localhost:8080/"
        },
        "id": "wS78ZLXg85wx",
        "outputId": "44d68674-6736-47b6-b2e8-dbf9fe5f7217"
      },
      "execution_count": 3,
      "outputs": [
        {
          "output_type": "stream",
          "name": "stdout",
          "text": [
            "Looking in indexes: https://pypi.org/simple, https://us-python.pkg.dev/colab-wheels/public/simple/\n",
            "Requirement already satisfied: yfinance in /usr/local/lib/python3.8/dist-packages (0.2.12)\n",
            "Requirement already satisfied: lxml>=4.9.1 in /usr/local/lib/python3.8/dist-packages (from yfinance) (4.9.2)\n",
            "Requirement already satisfied: frozendict>=2.3.4 in /usr/local/lib/python3.8/dist-packages (from yfinance) (2.3.5)\n",
            "Requirement already satisfied: cryptography>=3.3.2 in /usr/local/lib/python3.8/dist-packages (from yfinance) (39.0.2)\n",
            "Requirement already satisfied: pytz>=2022.5 in /usr/local/lib/python3.8/dist-packages (from yfinance) (2022.7.1)\n",
            "Requirement already satisfied: numpy>=1.16.5 in /usr/local/lib/python3.8/dist-packages (from yfinance) (1.22.4)\n",
            "Requirement already satisfied: pandas>=1.3.0 in /usr/local/lib/python3.8/dist-packages (from yfinance) (1.3.5)\n",
            "Requirement already satisfied: beautifulsoup4>=4.11.1 in /usr/local/lib/python3.8/dist-packages (from yfinance) (4.11.2)\n",
            "Requirement already satisfied: html5lib>=1.1 in /usr/local/lib/python3.8/dist-packages (from yfinance) (1.1)\n",
            "Requirement already satisfied: multitasking>=0.0.7 in /usr/local/lib/python3.8/dist-packages (from yfinance) (0.0.11)\n",
            "Requirement already satisfied: requests>=2.26 in /usr/local/lib/python3.8/dist-packages (from yfinance) (2.28.2)\n",
            "Requirement already satisfied: appdirs>=1.4.4 in /usr/local/lib/python3.8/dist-packages (from yfinance) (1.4.4)\n",
            "Requirement already satisfied: soupsieve>1.2 in /usr/local/lib/python3.8/dist-packages (from beautifulsoup4>=4.11.1->yfinance) (2.4)\n",
            "Requirement already satisfied: cffi>=1.12 in /usr/local/lib/python3.8/dist-packages (from cryptography>=3.3.2->yfinance) (1.15.1)\n",
            "Requirement already satisfied: webencodings in /usr/local/lib/python3.8/dist-packages (from html5lib>=1.1->yfinance) (0.5.1)\n",
            "Requirement already satisfied: six>=1.9 in /usr/local/lib/python3.8/dist-packages (from html5lib>=1.1->yfinance) (1.15.0)\n",
            "Requirement already satisfied: python-dateutil>=2.7.3 in /usr/local/lib/python3.8/dist-packages (from pandas>=1.3.0->yfinance) (2.8.2)\n",
            "Requirement already satisfied: idna<4,>=2.5 in /usr/local/lib/python3.8/dist-packages (from requests>=2.26->yfinance) (2.10)\n",
            "Requirement already satisfied: charset-normalizer<4,>=2 in /usr/local/lib/python3.8/dist-packages (from requests>=2.26->yfinance) (3.0.1)\n",
            "Requirement already satisfied: urllib3<1.27,>=1.21.1 in /usr/local/lib/python3.8/dist-packages (from requests>=2.26->yfinance) (1.26.14)\n",
            "Requirement already satisfied: certifi>=2017.4.17 in /usr/local/lib/python3.8/dist-packages (from requests>=2.26->yfinance) (2022.12.7)\n",
            "Requirement already satisfied: pycparser in /usr/local/lib/python3.8/dist-packages (from cffi>=1.12->cryptography>=3.3.2->yfinance) (2.21)\n"
          ]
        }
      ]
    },
    {
      "cell_type": "code",
      "source": [
        "import yfinance as yf"
      ],
      "metadata": {
        "id": "BG2qywDTCgyW"
      },
      "execution_count": 4,
      "outputs": []
    },
    {
      "cell_type": "code",
      "source": [
        "bse_data = yf.download('^BSESN',start = '2001-01-01',end = '2022-03-31')\n",
        "print(bse_data)"
      ],
      "metadata": {
        "colab": {
          "base_uri": "https://localhost:8080/"
        },
        "id": "krdSTG_rCjaF",
        "outputId": "dbce78ff-1dd8-4a58-b801-cefca68c9ff9"
      },
      "execution_count": 5,
      "outputs": [
        {
          "output_type": "stream",
          "name": "stdout",
          "text": [
            "\r[*********************100%***********************]  1 of 1 completed\n",
            "                    Open          High           Low         Close  \\\n",
            "Date                                                                 \n",
            "2001-01-02   3953.219971   4028.570068   3929.370117   4018.879883   \n",
            "2001-01-03   3977.580078   4067.659912   3977.580078   4060.020020   \n",
            "2001-01-04   4180.970215   4180.970215   4109.549805   4115.370117   \n",
            "2001-01-05   4116.339844   4195.009766   4115.350098   4183.729980   \n",
            "2001-01-08   4164.759766   4206.720215   4101.529785   4120.430176   \n",
            "...                  ...           ...           ...           ...   \n",
            "2022-03-24  57190.050781  57827.988281  57138.511719  57595.679688   \n",
            "2022-03-25  57801.718750  57845.371094  57100.238281  57362.199219   \n",
            "2022-03-28  57472.718750  57638.339844  56825.089844  57593.488281   \n",
            "2022-03-29  57814.761719  58001.531250  57639.351562  57943.648438   \n",
            "2022-03-30  58362.851562  58727.781250  58176.000000  58683.988281   \n",
            "\n",
            "               Adj Close  Volume  \n",
            "Date                              \n",
            "2001-01-02   4018.879883       0  \n",
            "2001-01-03   4060.020020       0  \n",
            "2001-01-04   4115.370117       0  \n",
            "2001-01-05   4183.729980       0  \n",
            "2001-01-08   4120.430176       0  \n",
            "...                  ...     ...  \n",
            "2022-03-24  57595.679688   51400  \n",
            "2022-03-25  57362.199219    6900  \n",
            "2022-03-28  57593.488281    6300  \n",
            "2022-03-29  57943.648438   12100  \n",
            "2022-03-30  58683.988281    6300  \n",
            "\n",
            "[5234 rows x 6 columns]\n"
          ]
        }
      ]
    },
    {
      "cell_type": "code",
      "source": [
        "bse_data.columns"
      ],
      "metadata": {
        "colab": {
          "base_uri": "https://localhost:8080/"
        },
        "id": "vTaJtu4TDACS",
        "outputId": "97b185a9-3641-4430-dee5-4c3d27964c70"
      },
      "execution_count": 6,
      "outputs": [
        {
          "output_type": "execute_result",
          "data": {
            "text/plain": [
              "Index(['Open', 'High', 'Low', 'Close', 'Adj Close', 'Volume'], dtype='object')"
            ]
          },
          "metadata": {},
          "execution_count": 6
        }
      ]
    },
    {
      "cell_type": "code",
      "source": [
        "bse_data.reset_index(inplace=True)"
      ],
      "metadata": {
        "id": "eYZlTvWfXfQO"
      },
      "execution_count": 7,
      "outputs": []
    },
    {
      "cell_type": "code",
      "source": [
        "bse_data.head()"
      ],
      "metadata": {
        "colab": {
          "base_uri": "https://localhost:8080/",
          "height": 206
        },
        "id": "x038QqHoDXNc",
        "outputId": "cc27aca5-beca-424b-a603-1425ee7685b6"
      },
      "execution_count": 8,
      "outputs": [
        {
          "output_type": "execute_result",
          "data": {
            "text/plain": [
              "        Date         Open         High          Low        Close    Adj Close  \\\n",
              "0 2001-01-02  3953.219971  4028.570068  3929.370117  4018.879883  4018.879883   \n",
              "1 2001-01-03  3977.580078  4067.659912  3977.580078  4060.020020  4060.020020   \n",
              "2 2001-01-04  4180.970215  4180.970215  4109.549805  4115.370117  4115.370117   \n",
              "3 2001-01-05  4116.339844  4195.009766  4115.350098  4183.729980  4183.729980   \n",
              "4 2001-01-08  4164.759766  4206.720215  4101.529785  4120.430176  4120.430176   \n",
              "\n",
              "   Volume  \n",
              "0       0  \n",
              "1       0  \n",
              "2       0  \n",
              "3       0  \n",
              "4       0  "
            ],
            "text/html": [
              "\n",
              "  <div id=\"df-3fecbff7-5206-4701-ae54-e52e794cc42c\">\n",
              "    <div class=\"colab-df-container\">\n",
              "      <div>\n",
              "<style scoped>\n",
              "    .dataframe tbody tr th:only-of-type {\n",
              "        vertical-align: middle;\n",
              "    }\n",
              "\n",
              "    .dataframe tbody tr th {\n",
              "        vertical-align: top;\n",
              "    }\n",
              "\n",
              "    .dataframe thead th {\n",
              "        text-align: right;\n",
              "    }\n",
              "</style>\n",
              "<table border=\"1\" class=\"dataframe\">\n",
              "  <thead>\n",
              "    <tr style=\"text-align: right;\">\n",
              "      <th></th>\n",
              "      <th>Date</th>\n",
              "      <th>Open</th>\n",
              "      <th>High</th>\n",
              "      <th>Low</th>\n",
              "      <th>Close</th>\n",
              "      <th>Adj Close</th>\n",
              "      <th>Volume</th>\n",
              "    </tr>\n",
              "  </thead>\n",
              "  <tbody>\n",
              "    <tr>\n",
              "      <th>0</th>\n",
              "      <td>2001-01-02</td>\n",
              "      <td>3953.219971</td>\n",
              "      <td>4028.570068</td>\n",
              "      <td>3929.370117</td>\n",
              "      <td>4018.879883</td>\n",
              "      <td>4018.879883</td>\n",
              "      <td>0</td>\n",
              "    </tr>\n",
              "    <tr>\n",
              "      <th>1</th>\n",
              "      <td>2001-01-03</td>\n",
              "      <td>3977.580078</td>\n",
              "      <td>4067.659912</td>\n",
              "      <td>3977.580078</td>\n",
              "      <td>4060.020020</td>\n",
              "      <td>4060.020020</td>\n",
              "      <td>0</td>\n",
              "    </tr>\n",
              "    <tr>\n",
              "      <th>2</th>\n",
              "      <td>2001-01-04</td>\n",
              "      <td>4180.970215</td>\n",
              "      <td>4180.970215</td>\n",
              "      <td>4109.549805</td>\n",
              "      <td>4115.370117</td>\n",
              "      <td>4115.370117</td>\n",
              "      <td>0</td>\n",
              "    </tr>\n",
              "    <tr>\n",
              "      <th>3</th>\n",
              "      <td>2001-01-05</td>\n",
              "      <td>4116.339844</td>\n",
              "      <td>4195.009766</td>\n",
              "      <td>4115.350098</td>\n",
              "      <td>4183.729980</td>\n",
              "      <td>4183.729980</td>\n",
              "      <td>0</td>\n",
              "    </tr>\n",
              "    <tr>\n",
              "      <th>4</th>\n",
              "      <td>2001-01-08</td>\n",
              "      <td>4164.759766</td>\n",
              "      <td>4206.720215</td>\n",
              "      <td>4101.529785</td>\n",
              "      <td>4120.430176</td>\n",
              "      <td>4120.430176</td>\n",
              "      <td>0</td>\n",
              "    </tr>\n",
              "  </tbody>\n",
              "</table>\n",
              "</div>\n",
              "      <button class=\"colab-df-convert\" onclick=\"convertToInteractive('df-3fecbff7-5206-4701-ae54-e52e794cc42c')\"\n",
              "              title=\"Convert this dataframe to an interactive table.\"\n",
              "              style=\"display:none;\">\n",
              "        \n",
              "  <svg xmlns=\"http://www.w3.org/2000/svg\" height=\"24px\"viewBox=\"0 0 24 24\"\n",
              "       width=\"24px\">\n",
              "    <path d=\"M0 0h24v24H0V0z\" fill=\"none\"/>\n",
              "    <path d=\"M18.56 5.44l.94 2.06.94-2.06 2.06-.94-2.06-.94-.94-2.06-.94 2.06-2.06.94zm-11 1L8.5 8.5l.94-2.06 2.06-.94-2.06-.94L8.5 2.5l-.94 2.06-2.06.94zm10 10l.94 2.06.94-2.06 2.06-.94-2.06-.94-.94-2.06-.94 2.06-2.06.94z\"/><path d=\"M17.41 7.96l-1.37-1.37c-.4-.4-.92-.59-1.43-.59-.52 0-1.04.2-1.43.59L10.3 9.45l-7.72 7.72c-.78.78-.78 2.05 0 2.83L4 21.41c.39.39.9.59 1.41.59.51 0 1.02-.2 1.41-.59l7.78-7.78 2.81-2.81c.8-.78.8-2.07 0-2.86zM5.41 20L4 18.59l7.72-7.72 1.47 1.35L5.41 20z\"/>\n",
              "  </svg>\n",
              "      </button>\n",
              "      \n",
              "  <style>\n",
              "    .colab-df-container {\n",
              "      display:flex;\n",
              "      flex-wrap:wrap;\n",
              "      gap: 12px;\n",
              "    }\n",
              "\n",
              "    .colab-df-convert {\n",
              "      background-color: #E8F0FE;\n",
              "      border: none;\n",
              "      border-radius: 50%;\n",
              "      cursor: pointer;\n",
              "      display: none;\n",
              "      fill: #1967D2;\n",
              "      height: 32px;\n",
              "      padding: 0 0 0 0;\n",
              "      width: 32px;\n",
              "    }\n",
              "\n",
              "    .colab-df-convert:hover {\n",
              "      background-color: #E2EBFA;\n",
              "      box-shadow: 0px 1px 2px rgba(60, 64, 67, 0.3), 0px 1px 3px 1px rgba(60, 64, 67, 0.15);\n",
              "      fill: #174EA6;\n",
              "    }\n",
              "\n",
              "    [theme=dark] .colab-df-convert {\n",
              "      background-color: #3B4455;\n",
              "      fill: #D2E3FC;\n",
              "    }\n",
              "\n",
              "    [theme=dark] .colab-df-convert:hover {\n",
              "      background-color: #434B5C;\n",
              "      box-shadow: 0px 1px 3px 1px rgba(0, 0, 0, 0.15);\n",
              "      filter: drop-shadow(0px 1px 2px rgba(0, 0, 0, 0.3));\n",
              "      fill: #FFFFFF;\n",
              "    }\n",
              "  </style>\n",
              "\n",
              "      <script>\n",
              "        const buttonEl =\n",
              "          document.querySelector('#df-3fecbff7-5206-4701-ae54-e52e794cc42c button.colab-df-convert');\n",
              "        buttonEl.style.display =\n",
              "          google.colab.kernel.accessAllowed ? 'block' : 'none';\n",
              "\n",
              "        async function convertToInteractive(key) {\n",
              "          const element = document.querySelector('#df-3fecbff7-5206-4701-ae54-e52e794cc42c');\n",
              "          const dataTable =\n",
              "            await google.colab.kernel.invokeFunction('convertToInteractive',\n",
              "                                                     [key], {});\n",
              "          if (!dataTable) return;\n",
              "\n",
              "          const docLinkHtml = 'Like what you see? Visit the ' +\n",
              "            '<a target=\"_blank\" href=https://colab.research.google.com/notebooks/data_table.ipynb>data table notebook</a>'\n",
              "            + ' to learn more about interactive tables.';\n",
              "          element.innerHTML = '';\n",
              "          dataTable['output_type'] = 'display_data';\n",
              "          await google.colab.output.renderOutput(dataTable, element);\n",
              "          const docLink = document.createElement('div');\n",
              "          docLink.innerHTML = docLinkHtml;\n",
              "          element.appendChild(docLink);\n",
              "        }\n",
              "      </script>\n",
              "    </div>\n",
              "  </div>\n",
              "  "
            ]
          },
          "metadata": {},
          "execution_count": 8
        }
      ]
    },
    {
      "cell_type": "code",
      "source": [
        "bse_data.tail()"
      ],
      "metadata": {
        "colab": {
          "base_uri": "https://localhost:8080/",
          "height": 206
        },
        "id": "x4d4MS0GDeXO",
        "outputId": "a8455eda-31d6-40e4-86e9-ddd7a8300a8f"
      },
      "execution_count": 9,
      "outputs": [
        {
          "output_type": "execute_result",
          "data": {
            "text/plain": [
              "           Date          Open          High           Low         Close  \\\n",
              "5229 2022-03-24  57190.050781  57827.988281  57138.511719  57595.679688   \n",
              "5230 2022-03-25  57801.718750  57845.371094  57100.238281  57362.199219   \n",
              "5231 2022-03-28  57472.718750  57638.339844  56825.089844  57593.488281   \n",
              "5232 2022-03-29  57814.761719  58001.531250  57639.351562  57943.648438   \n",
              "5233 2022-03-30  58362.851562  58727.781250  58176.000000  58683.988281   \n",
              "\n",
              "         Adj Close  Volume  \n",
              "5229  57595.679688   51400  \n",
              "5230  57362.199219    6900  \n",
              "5231  57593.488281    6300  \n",
              "5232  57943.648438   12100  \n",
              "5233  58683.988281    6300  "
            ],
            "text/html": [
              "\n",
              "  <div id=\"df-371469a6-dbe2-4069-afb0-68778395b309\">\n",
              "    <div class=\"colab-df-container\">\n",
              "      <div>\n",
              "<style scoped>\n",
              "    .dataframe tbody tr th:only-of-type {\n",
              "        vertical-align: middle;\n",
              "    }\n",
              "\n",
              "    .dataframe tbody tr th {\n",
              "        vertical-align: top;\n",
              "    }\n",
              "\n",
              "    .dataframe thead th {\n",
              "        text-align: right;\n",
              "    }\n",
              "</style>\n",
              "<table border=\"1\" class=\"dataframe\">\n",
              "  <thead>\n",
              "    <tr style=\"text-align: right;\">\n",
              "      <th></th>\n",
              "      <th>Date</th>\n",
              "      <th>Open</th>\n",
              "      <th>High</th>\n",
              "      <th>Low</th>\n",
              "      <th>Close</th>\n",
              "      <th>Adj Close</th>\n",
              "      <th>Volume</th>\n",
              "    </tr>\n",
              "  </thead>\n",
              "  <tbody>\n",
              "    <tr>\n",
              "      <th>5229</th>\n",
              "      <td>2022-03-24</td>\n",
              "      <td>57190.050781</td>\n",
              "      <td>57827.988281</td>\n",
              "      <td>57138.511719</td>\n",
              "      <td>57595.679688</td>\n",
              "      <td>57595.679688</td>\n",
              "      <td>51400</td>\n",
              "    </tr>\n",
              "    <tr>\n",
              "      <th>5230</th>\n",
              "      <td>2022-03-25</td>\n",
              "      <td>57801.718750</td>\n",
              "      <td>57845.371094</td>\n",
              "      <td>57100.238281</td>\n",
              "      <td>57362.199219</td>\n",
              "      <td>57362.199219</td>\n",
              "      <td>6900</td>\n",
              "    </tr>\n",
              "    <tr>\n",
              "      <th>5231</th>\n",
              "      <td>2022-03-28</td>\n",
              "      <td>57472.718750</td>\n",
              "      <td>57638.339844</td>\n",
              "      <td>56825.089844</td>\n",
              "      <td>57593.488281</td>\n",
              "      <td>57593.488281</td>\n",
              "      <td>6300</td>\n",
              "    </tr>\n",
              "    <tr>\n",
              "      <th>5232</th>\n",
              "      <td>2022-03-29</td>\n",
              "      <td>57814.761719</td>\n",
              "      <td>58001.531250</td>\n",
              "      <td>57639.351562</td>\n",
              "      <td>57943.648438</td>\n",
              "      <td>57943.648438</td>\n",
              "      <td>12100</td>\n",
              "    </tr>\n",
              "    <tr>\n",
              "      <th>5233</th>\n",
              "      <td>2022-03-30</td>\n",
              "      <td>58362.851562</td>\n",
              "      <td>58727.781250</td>\n",
              "      <td>58176.000000</td>\n",
              "      <td>58683.988281</td>\n",
              "      <td>58683.988281</td>\n",
              "      <td>6300</td>\n",
              "    </tr>\n",
              "  </tbody>\n",
              "</table>\n",
              "</div>\n",
              "      <button class=\"colab-df-convert\" onclick=\"convertToInteractive('df-371469a6-dbe2-4069-afb0-68778395b309')\"\n",
              "              title=\"Convert this dataframe to an interactive table.\"\n",
              "              style=\"display:none;\">\n",
              "        \n",
              "  <svg xmlns=\"http://www.w3.org/2000/svg\" height=\"24px\"viewBox=\"0 0 24 24\"\n",
              "       width=\"24px\">\n",
              "    <path d=\"M0 0h24v24H0V0z\" fill=\"none\"/>\n",
              "    <path d=\"M18.56 5.44l.94 2.06.94-2.06 2.06-.94-2.06-.94-.94-2.06-.94 2.06-2.06.94zm-11 1L8.5 8.5l.94-2.06 2.06-.94-2.06-.94L8.5 2.5l-.94 2.06-2.06.94zm10 10l.94 2.06.94-2.06 2.06-.94-2.06-.94-.94-2.06-.94 2.06-2.06.94z\"/><path d=\"M17.41 7.96l-1.37-1.37c-.4-.4-.92-.59-1.43-.59-.52 0-1.04.2-1.43.59L10.3 9.45l-7.72 7.72c-.78.78-.78 2.05 0 2.83L4 21.41c.39.39.9.59 1.41.59.51 0 1.02-.2 1.41-.59l7.78-7.78 2.81-2.81c.8-.78.8-2.07 0-2.86zM5.41 20L4 18.59l7.72-7.72 1.47 1.35L5.41 20z\"/>\n",
              "  </svg>\n",
              "      </button>\n",
              "      \n",
              "  <style>\n",
              "    .colab-df-container {\n",
              "      display:flex;\n",
              "      flex-wrap:wrap;\n",
              "      gap: 12px;\n",
              "    }\n",
              "\n",
              "    .colab-df-convert {\n",
              "      background-color: #E8F0FE;\n",
              "      border: none;\n",
              "      border-radius: 50%;\n",
              "      cursor: pointer;\n",
              "      display: none;\n",
              "      fill: #1967D2;\n",
              "      height: 32px;\n",
              "      padding: 0 0 0 0;\n",
              "      width: 32px;\n",
              "    }\n",
              "\n",
              "    .colab-df-convert:hover {\n",
              "      background-color: #E2EBFA;\n",
              "      box-shadow: 0px 1px 2px rgba(60, 64, 67, 0.3), 0px 1px 3px 1px rgba(60, 64, 67, 0.15);\n",
              "      fill: #174EA6;\n",
              "    }\n",
              "\n",
              "    [theme=dark] .colab-df-convert {\n",
              "      background-color: #3B4455;\n",
              "      fill: #D2E3FC;\n",
              "    }\n",
              "\n",
              "    [theme=dark] .colab-df-convert:hover {\n",
              "      background-color: #434B5C;\n",
              "      box-shadow: 0px 1px 3px 1px rgba(0, 0, 0, 0.15);\n",
              "      filter: drop-shadow(0px 1px 2px rgba(0, 0, 0, 0.3));\n",
              "      fill: #FFFFFF;\n",
              "    }\n",
              "  </style>\n",
              "\n",
              "      <script>\n",
              "        const buttonEl =\n",
              "          document.querySelector('#df-371469a6-dbe2-4069-afb0-68778395b309 button.colab-df-convert');\n",
              "        buttonEl.style.display =\n",
              "          google.colab.kernel.accessAllowed ? 'block' : 'none';\n",
              "\n",
              "        async function convertToInteractive(key) {\n",
              "          const element = document.querySelector('#df-371469a6-dbe2-4069-afb0-68778395b309');\n",
              "          const dataTable =\n",
              "            await google.colab.kernel.invokeFunction('convertToInteractive',\n",
              "                                                     [key], {});\n",
              "          if (!dataTable) return;\n",
              "\n",
              "          const docLinkHtml = 'Like what you see? Visit the ' +\n",
              "            '<a target=\"_blank\" href=https://colab.research.google.com/notebooks/data_table.ipynb>data table notebook</a>'\n",
              "            + ' to learn more about interactive tables.';\n",
              "          element.innerHTML = '';\n",
              "          dataTable['output_type'] = 'display_data';\n",
              "          await google.colab.output.renderOutput(dataTable, element);\n",
              "          const docLink = document.createElement('div');\n",
              "          docLink.innerHTML = docLinkHtml;\n",
              "          element.appendChild(docLink);\n",
              "        }\n",
              "      </script>\n",
              "    </div>\n",
              "  </div>\n",
              "  "
            ]
          },
          "metadata": {},
          "execution_count": 9
        }
      ]
    },
    {
      "cell_type": "code",
      "source": [
        "bse_data.shape"
      ],
      "metadata": {
        "colab": {
          "base_uri": "https://localhost:8080/"
        },
        "id": "dtlw9uz3DhQy",
        "outputId": "26b322dd-c6d7-4a2b-adc7-a2d7547d3676"
      },
      "execution_count": 10,
      "outputs": [
        {
          "output_type": "execute_result",
          "data": {
            "text/plain": [
              "(5234, 7)"
            ]
          },
          "metadata": {},
          "execution_count": 10
        }
      ]
    },
    {
      "cell_type": "code",
      "source": [
        "bse_data.size#bse_data.to_csv('bse.csv')"
      ],
      "metadata": {
        "id": "fdUjZpNhJhYp",
        "colab": {
          "base_uri": "https://localhost:8080/"
        },
        "outputId": "46f9056f-e8d3-48dc-b4e3-be92a61a2a75"
      },
      "execution_count": 11,
      "outputs": [
        {
          "output_type": "execute_result",
          "data": {
            "text/plain": [
              "36638"
            ]
          },
          "metadata": {},
          "execution_count": 11
        }
      ]
    },
    {
      "cell_type": "code",
      "source": [
        "bse_data.info()"
      ],
      "metadata": {
        "id": "IQKx0HwZNSrk",
        "colab": {
          "base_uri": "https://localhost:8080/"
        },
        "outputId": "5b2a968a-c904-4c76-8fd2-ab80bdd6fdd8"
      },
      "execution_count": 12,
      "outputs": [
        {
          "output_type": "stream",
          "name": "stdout",
          "text": [
            "<class 'pandas.core.frame.DataFrame'>\n",
            "RangeIndex: 5234 entries, 0 to 5233\n",
            "Data columns (total 7 columns):\n",
            " #   Column     Non-Null Count  Dtype         \n",
            "---  ------     --------------  -----         \n",
            " 0   Date       5234 non-null   datetime64[ns]\n",
            " 1   Open       5234 non-null   float64       \n",
            " 2   High       5234 non-null   float64       \n",
            " 3   Low        5234 non-null   float64       \n",
            " 4   Close      5234 non-null   float64       \n",
            " 5   Adj Close  5234 non-null   float64       \n",
            " 6   Volume     5234 non-null   int64         \n",
            "dtypes: datetime64[ns](1), float64(5), int64(1)\n",
            "memory usage: 286.4 KB\n"
          ]
        }
      ]
    },
    {
      "cell_type": "code",
      "source": [
        "bse_data.isna().sum()"
      ],
      "metadata": {
        "colab": {
          "base_uri": "https://localhost:8080/"
        },
        "id": "4a8n5138Qtob",
        "outputId": "42ed4812-8cd6-470a-c13e-7eda9e1b398d"
      },
      "execution_count": 13,
      "outputs": [
        {
          "output_type": "execute_result",
          "data": {
            "text/plain": [
              "Date         0\n",
              "Open         0\n",
              "High         0\n",
              "Low          0\n",
              "Close        0\n",
              "Adj Close    0\n",
              "Volume       0\n",
              "dtype: int64"
            ]
          },
          "metadata": {},
          "execution_count": 13
        }
      ]
    },
    {
      "cell_type": "code",
      "source": [
        "bse_data['Date'] = pd.to_datetime(bse_data['Date'])"
      ],
      "metadata": {
        "id": "8N_oLgo4RFx8"
      },
      "execution_count": 14,
      "outputs": []
    },
    {
      "cell_type": "code",
      "source": [
        "bse_data.info()"
      ],
      "metadata": {
        "colab": {
          "base_uri": "https://localhost:8080/"
        },
        "id": "wFZFdd02XKs_",
        "outputId": "3fd0cf93-7f85-4f69-a690-765d0897f0d7"
      },
      "execution_count": 15,
      "outputs": [
        {
          "output_type": "stream",
          "name": "stdout",
          "text": [
            "<class 'pandas.core.frame.DataFrame'>\n",
            "RangeIndex: 5234 entries, 0 to 5233\n",
            "Data columns (total 7 columns):\n",
            " #   Column     Non-Null Count  Dtype         \n",
            "---  ------     --------------  -----         \n",
            " 0   Date       5234 non-null   datetime64[ns]\n",
            " 1   Open       5234 non-null   float64       \n",
            " 2   High       5234 non-null   float64       \n",
            " 3   Low        5234 non-null   float64       \n",
            " 4   Close      5234 non-null   float64       \n",
            " 5   Adj Close  5234 non-null   float64       \n",
            " 6   Volume     5234 non-null   int64         \n",
            "dtypes: datetime64[ns](1), float64(5), int64(1)\n",
            "memory usage: 286.4 KB\n"
          ]
        }
      ]
    },
    {
      "cell_type": "code",
      "source": [
        "def bse_stock_weekly_moving_avg(weeks,df):\n",
        "  close_data = pd.DataFrame({'date': df['Date'] , 'close': df['Close']})\n",
        "  close_data.set_index('date',inplace=True)\n",
        "  num = weeks * 5\n",
        "  close_data['moving_avg'] = close_data['close'].rolling(window = num).mean().shift()\n",
        "  return close_data.dropna()"
      ],
      "metadata": {
        "id": "D3RBy42bXp4t"
      },
      "execution_count": 16,
      "outputs": []
    },
    {
      "cell_type": "code",
      "source": [
        "bse_stock_weekly_moving_avg(70,bse_data).head()"
      ],
      "metadata": {
        "colab": {
          "base_uri": "https://localhost:8080/",
          "height": 237
        },
        "id": "_5225m5L6cHV",
        "outputId": "76d1452c-c42d-4e50-eae5-50673090109b"
      },
      "execution_count": 23,
      "outputs": [
        {
          "output_type": "execute_result",
          "data": {
            "text/plain": [
              "                  close   moving_avg\n",
              "date                                \n",
              "2002-05-30  3135.889893  3472.228601\n",
              "2002-05-31  3125.729980  3469.705773\n",
              "2002-06-03  3161.090088  3467.036373\n",
              "2002-06-04  3191.600098  3464.309858\n",
              "2002-06-05  3255.520020  3461.475202"
            ],
            "text/html": [
              "\n",
              "  <div id=\"df-ee67ce33-4f41-44d7-b4c0-d2128dc167eb\">\n",
              "    <div class=\"colab-df-container\">\n",
              "      <div>\n",
              "<style scoped>\n",
              "    .dataframe tbody tr th:only-of-type {\n",
              "        vertical-align: middle;\n",
              "    }\n",
              "\n",
              "    .dataframe tbody tr th {\n",
              "        vertical-align: top;\n",
              "    }\n",
              "\n",
              "    .dataframe thead th {\n",
              "        text-align: right;\n",
              "    }\n",
              "</style>\n",
              "<table border=\"1\" class=\"dataframe\">\n",
              "  <thead>\n",
              "    <tr style=\"text-align: right;\">\n",
              "      <th></th>\n",
              "      <th>close</th>\n",
              "      <th>moving_avg</th>\n",
              "    </tr>\n",
              "    <tr>\n",
              "      <th>date</th>\n",
              "      <th></th>\n",
              "      <th></th>\n",
              "    </tr>\n",
              "  </thead>\n",
              "  <tbody>\n",
              "    <tr>\n",
              "      <th>2002-05-30</th>\n",
              "      <td>3135.889893</td>\n",
              "      <td>3472.228601</td>\n",
              "    </tr>\n",
              "    <tr>\n",
              "      <th>2002-05-31</th>\n",
              "      <td>3125.729980</td>\n",
              "      <td>3469.705773</td>\n",
              "    </tr>\n",
              "    <tr>\n",
              "      <th>2002-06-03</th>\n",
              "      <td>3161.090088</td>\n",
              "      <td>3467.036373</td>\n",
              "    </tr>\n",
              "    <tr>\n",
              "      <th>2002-06-04</th>\n",
              "      <td>3191.600098</td>\n",
              "      <td>3464.309858</td>\n",
              "    </tr>\n",
              "    <tr>\n",
              "      <th>2002-06-05</th>\n",
              "      <td>3255.520020</td>\n",
              "      <td>3461.475202</td>\n",
              "    </tr>\n",
              "  </tbody>\n",
              "</table>\n",
              "</div>\n",
              "      <button class=\"colab-df-convert\" onclick=\"convertToInteractive('df-ee67ce33-4f41-44d7-b4c0-d2128dc167eb')\"\n",
              "              title=\"Convert this dataframe to an interactive table.\"\n",
              "              style=\"display:none;\">\n",
              "        \n",
              "  <svg xmlns=\"http://www.w3.org/2000/svg\" height=\"24px\"viewBox=\"0 0 24 24\"\n",
              "       width=\"24px\">\n",
              "    <path d=\"M0 0h24v24H0V0z\" fill=\"none\"/>\n",
              "    <path d=\"M18.56 5.44l.94 2.06.94-2.06 2.06-.94-2.06-.94-.94-2.06-.94 2.06-2.06.94zm-11 1L8.5 8.5l.94-2.06 2.06-.94-2.06-.94L8.5 2.5l-.94 2.06-2.06.94zm10 10l.94 2.06.94-2.06 2.06-.94-2.06-.94-.94-2.06-.94 2.06-2.06.94z\"/><path d=\"M17.41 7.96l-1.37-1.37c-.4-.4-.92-.59-1.43-.59-.52 0-1.04.2-1.43.59L10.3 9.45l-7.72 7.72c-.78.78-.78 2.05 0 2.83L4 21.41c.39.39.9.59 1.41.59.51 0 1.02-.2 1.41-.59l7.78-7.78 2.81-2.81c.8-.78.8-2.07 0-2.86zM5.41 20L4 18.59l7.72-7.72 1.47 1.35L5.41 20z\"/>\n",
              "  </svg>\n",
              "      </button>\n",
              "      \n",
              "  <style>\n",
              "    .colab-df-container {\n",
              "      display:flex;\n",
              "      flex-wrap:wrap;\n",
              "      gap: 12px;\n",
              "    }\n",
              "\n",
              "    .colab-df-convert {\n",
              "      background-color: #E8F0FE;\n",
              "      border: none;\n",
              "      border-radius: 50%;\n",
              "      cursor: pointer;\n",
              "      display: none;\n",
              "      fill: #1967D2;\n",
              "      height: 32px;\n",
              "      padding: 0 0 0 0;\n",
              "      width: 32px;\n",
              "    }\n",
              "\n",
              "    .colab-df-convert:hover {\n",
              "      background-color: #E2EBFA;\n",
              "      box-shadow: 0px 1px 2px rgba(60, 64, 67, 0.3), 0px 1px 3px 1px rgba(60, 64, 67, 0.15);\n",
              "      fill: #174EA6;\n",
              "    }\n",
              "\n",
              "    [theme=dark] .colab-df-convert {\n",
              "      background-color: #3B4455;\n",
              "      fill: #D2E3FC;\n",
              "    }\n",
              "\n",
              "    [theme=dark] .colab-df-convert:hover {\n",
              "      background-color: #434B5C;\n",
              "      box-shadow: 0px 1px 3px 1px rgba(0, 0, 0, 0.15);\n",
              "      filter: drop-shadow(0px 1px 2px rgba(0, 0, 0, 0.3));\n",
              "      fill: #FFFFFF;\n",
              "    }\n",
              "  </style>\n",
              "\n",
              "      <script>\n",
              "        const buttonEl =\n",
              "          document.querySelector('#df-ee67ce33-4f41-44d7-b4c0-d2128dc167eb button.colab-df-convert');\n",
              "        buttonEl.style.display =\n",
              "          google.colab.kernel.accessAllowed ? 'block' : 'none';\n",
              "\n",
              "        async function convertToInteractive(key) {\n",
              "          const element = document.querySelector('#df-ee67ce33-4f41-44d7-b4c0-d2128dc167eb');\n",
              "          const dataTable =\n",
              "            await google.colab.kernel.invokeFunction('convertToInteractive',\n",
              "                                                     [key], {});\n",
              "          if (!dataTable) return;\n",
              "\n",
              "          const docLinkHtml = 'Like what you see? Visit the ' +\n",
              "            '<a target=\"_blank\" href=https://colab.research.google.com/notebooks/data_table.ipynb>data table notebook</a>'\n",
              "            + ' to learn more about interactive tables.';\n",
              "          element.innerHTML = '';\n",
              "          dataTable['output_type'] = 'display_data';\n",
              "          await google.colab.output.renderOutput(dataTable, element);\n",
              "          const docLink = document.createElement('div');\n",
              "          docLink.innerHTML = docLinkHtml;\n",
              "          element.appendChild(docLink);\n",
              "        }\n",
              "      </script>\n",
              "    </div>\n",
              "  </div>\n",
              "  "
            ]
          },
          "metadata": {},
          "execution_count": 23
        }
      ]
    },
    {
      "cell_type": "code",
      "source": [
        "bse_stock_weekly_moving_avg(70,bse_data).plot()"
      ],
      "metadata": {
        "colab": {
          "base_uri": "https://localhost:8080/",
          "height": 286
        },
        "id": "8CuZ5UkA6msa",
        "outputId": "7e9a4969-382a-44ec-fb30-59820ad351c5"
      },
      "execution_count": 24,
      "outputs": [
        {
          "output_type": "execute_result",
          "data": {
            "text/plain": [
              "<AxesSubplot:xlabel='date'>"
            ]
          },
          "metadata": {},
          "execution_count": 24
        },
        {
          "output_type": "display_data",
          "data": {
            "text/plain": [
              "<Figure size 432x288 with 1 Axes>"
            ],
            "image/png": "[encoded data removed]"
          },
          "metadata": {
            "needs_background": "light"
          }
        }
      ]
    },
    {
      "cell_type": "code",
      "source": [],
      "metadata": {
        "id": "FoNBxrMb7nKE"
      },
      "execution_count": null,
      "outputs": []
    }
  ]
}